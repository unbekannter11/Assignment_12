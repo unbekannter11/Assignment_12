{
 "cells": [
  {
   "cell_type": "code",
   "execution_count": 41,
   "id": "60a93652",
   "metadata": {},
   "outputs": [
    {
     "name": "stdout",
     "output_type": "stream",
     "text": [
      "Enter a positive number: 345\n",
      "It is an invalid entry. Don't use non-numeric, float, or negative values!\n"
     ]
    }
   ],
   "source": [
    "number = input(\"Enter a positive number: \")\n",
    "int_number = int(number)\n",
    "number_list = (list(number))\n",
    "digit = len(number_list)\n",
    "sum_of_list = []\n",
    "\n",
    "\n",
    "while True:\n",
    "    for i in number_list :\n",
    "        sum_of_list.append(int(i) ** digit)\n",
    "    \n",
    "    if int((sum(sum_of_list))) == int_number:\n",
    "        print(\"{} is an Armstrong number\".format(number))\n",
    "        break\n",
    "    else:\n",
    "        print(\"It is an invalid entry. Don't use non-numeric, float, or negative values!\")\n",
    "        break"
   ]
  }
 ],
 "metadata": {
  "kernelspec": {
   "display_name": "Python 3 (ipykernel)",
   "language": "python",
   "name": "python3"
  },
  "language_info": {
   "codemirror_mode": {
    "name": "ipython",
    "version": 3
   },
   "file_extension": ".py",
   "mimetype": "text/x-python",
   "name": "python",
   "nbconvert_exporter": "python",
   "pygments_lexer": "ipython3",
   "version": "3.9.13"
  }
 },
 "nbformat": 4,
 "nbformat_minor": 5
}
